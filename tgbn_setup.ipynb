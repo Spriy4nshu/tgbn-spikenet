{
 "cells": [
  {
   "cell_type": "code",
   "execution_count": 2,
   "metadata": {},
   "outputs": [
    {
     "name": "stdout",
     "output_type": "stream",
     "text": [
      "Requirement already satisfied: py-tgb in /Users/tejshah/miniconda3/envs/bic-final/lib/python3.9/site-packages (0.9.2)\n",
      "Requirement already satisfied: clint<0.6.0,>=0.5.1 in /Users/tejshah/miniconda3/envs/bic-final/lib/python3.9/site-packages (from py-tgb) (0.5.1)\n",
      "Requirement already satisfied: pandas<2.0.0,>=1.5.3 in /Users/tejshah/miniconda3/envs/bic-final/lib/python3.9/site-packages (from py-tgb) (1.5.3)\n",
      "Requirement already satisfied: requests<3.0.0,>=2.28.2 in /Users/tejshah/miniconda3/envs/bic-final/lib/python3.9/site-packages (from py-tgb) (2.31.0)\n",
      "Requirement already satisfied: scikit-learn<2.0.0,>=1.2.2 in /Users/tejshah/miniconda3/envs/bic-final/lib/python3.9/site-packages (from py-tgb) (1.4.1.post1)\n",
      "Requirement already satisfied: torch-geometric<3.0.0,>=2.3.0 in /Users/tejshah/miniconda3/envs/bic-final/lib/python3.9/site-packages (from py-tgb) (2.5.2)\n",
      "Requirement already satisfied: tqdm<5.0.0,>=4.65.0 in /Users/tejshah/miniconda3/envs/bic-final/lib/python3.9/site-packages (from py-tgb) (4.66.2)\n",
      "Requirement already satisfied: args in /Users/tejshah/miniconda3/envs/bic-final/lib/python3.9/site-packages (from clint<0.6.0,>=0.5.1->py-tgb) (0.1.0)\n",
      "Requirement already satisfied: python-dateutil>=2.8.1 in /Users/tejshah/miniconda3/envs/bic-final/lib/python3.9/site-packages (from pandas<2.0.0,>=1.5.3->py-tgb) (2.9.0)\n",
      "Requirement already satisfied: pytz>=2020.1 in /Users/tejshah/miniconda3/envs/bic-final/lib/python3.9/site-packages (from pandas<2.0.0,>=1.5.3->py-tgb) (2024.1)\n",
      "Requirement already satisfied: numpy>=1.20.3 in /Users/tejshah/miniconda3/envs/bic-final/lib/python3.9/site-packages (from pandas<2.0.0,>=1.5.3->py-tgb) (1.26.4)\n",
      "Requirement already satisfied: charset-normalizer<4,>=2 in /Users/tejshah/miniconda3/envs/bic-final/lib/python3.9/site-packages (from requests<3.0.0,>=2.28.2->py-tgb) (3.3.2)\n",
      "Requirement already satisfied: idna<4,>=2.5 in /Users/tejshah/miniconda3/envs/bic-final/lib/python3.9/site-packages (from requests<3.0.0,>=2.28.2->py-tgb) (3.6)\n",
      "Requirement already satisfied: urllib3<3,>=1.21.1 in /Users/tejshah/miniconda3/envs/bic-final/lib/python3.9/site-packages (from requests<3.0.0,>=2.28.2->py-tgb) (2.2.1)\n",
      "Requirement already satisfied: certifi>=2017.4.17 in /Users/tejshah/miniconda3/envs/bic-final/lib/python3.9/site-packages (from requests<3.0.0,>=2.28.2->py-tgb) (2024.2.2)\n",
      "Requirement already satisfied: scipy>=1.6.0 in /Users/tejshah/miniconda3/envs/bic-final/lib/python3.9/site-packages (from scikit-learn<2.0.0,>=1.2.2->py-tgb) (1.13.0)\n",
      "Requirement already satisfied: joblib>=1.2.0 in /Users/tejshah/miniconda3/envs/bic-final/lib/python3.9/site-packages (from scikit-learn<2.0.0,>=1.2.2->py-tgb) (1.4.0)\n",
      "Requirement already satisfied: threadpoolctl>=2.0.0 in /Users/tejshah/miniconda3/envs/bic-final/lib/python3.9/site-packages (from scikit-learn<2.0.0,>=1.2.2->py-tgb) (3.4.0)\n",
      "Requirement already satisfied: fsspec in /Users/tejshah/miniconda3/envs/bic-final/lib/python3.9/site-packages (from torch-geometric<3.0.0,>=2.3.0->py-tgb) (2024.3.1)\n",
      "Requirement already satisfied: jinja2 in /Users/tejshah/miniconda3/envs/bic-final/lib/python3.9/site-packages (from torch-geometric<3.0.0,>=2.3.0->py-tgb) (3.1.3)\n",
      "Requirement already satisfied: aiohttp in /Users/tejshah/miniconda3/envs/bic-final/lib/python3.9/site-packages (from torch-geometric<3.0.0,>=2.3.0->py-tgb) (3.9.3)\n",
      "Requirement already satisfied: pyparsing in /Users/tejshah/miniconda3/envs/bic-final/lib/python3.9/site-packages (from torch-geometric<3.0.0,>=2.3.0->py-tgb) (3.1.2)\n",
      "Requirement already satisfied: psutil>=5.8.0 in /Users/tejshah/miniconda3/envs/bic-final/lib/python3.9/site-packages (from torch-geometric<3.0.0,>=2.3.0->py-tgb) (5.9.8)\n",
      "Requirement already satisfied: six>=1.5 in /Users/tejshah/miniconda3/envs/bic-final/lib/python3.9/site-packages (from python-dateutil>=2.8.1->pandas<2.0.0,>=1.5.3->py-tgb) (1.16.0)\n",
      "Requirement already satisfied: aiosignal>=1.1.2 in /Users/tejshah/miniconda3/envs/bic-final/lib/python3.9/site-packages (from aiohttp->torch-geometric<3.0.0,>=2.3.0->py-tgb) (1.3.1)\n",
      "Requirement already satisfied: attrs>=17.3.0 in /Users/tejshah/miniconda3/envs/bic-final/lib/python3.9/site-packages (from aiohttp->torch-geometric<3.0.0,>=2.3.0->py-tgb) (23.2.0)\n",
      "Requirement already satisfied: frozenlist>=1.1.1 in /Users/tejshah/miniconda3/envs/bic-final/lib/python3.9/site-packages (from aiohttp->torch-geometric<3.0.0,>=2.3.0->py-tgb) (1.4.1)\n",
      "Requirement already satisfied: multidict<7.0,>=4.5 in /Users/tejshah/miniconda3/envs/bic-final/lib/python3.9/site-packages (from aiohttp->torch-geometric<3.0.0,>=2.3.0->py-tgb) (6.0.5)\n",
      "Requirement already satisfied: yarl<2.0,>=1.0 in /Users/tejshah/miniconda3/envs/bic-final/lib/python3.9/site-packages (from aiohttp->torch-geometric<3.0.0,>=2.3.0->py-tgb) (1.9.4)\n",
      "Requirement already satisfied: async-timeout<5.0,>=4.0 in /Users/tejshah/miniconda3/envs/bic-final/lib/python3.9/site-packages (from aiohttp->torch-geometric<3.0.0,>=2.3.0->py-tgb) (4.0.3)\n",
      "Requirement already satisfied: MarkupSafe>=2.0 in /Users/tejshah/miniconda3/envs/bic-final/lib/python3.9/site-packages (from jinja2->torch-geometric<3.0.0,>=2.3.0->py-tgb) (2.1.5)\n"
     ]
    }
   ],
   "source": [
    "!pip3 install py-tgb"
   ]
  },
  {
   "cell_type": "code",
   "execution_count": 3,
   "metadata": {},
   "outputs": [],
   "source": [
    "from DataLoader import get_node_classification_tgb_data"
   ]
  },
  {
   "cell_type": "code",
   "execution_count": 4,
   "metadata": {},
   "outputs": [
    {
     "name": "stdout",
     "output_type": "stream",
     "text": [
      "raw file found, skipping download\n",
      "Dataset directory is  /Users/tejshah/miniconda3/envs/bic-final/lib/python3.9/site-packages/tgb/datasets/tgbn_genre\n",
      "loading processed file\n"
     ]
    },
    {
     "ename": "",
     "evalue": "",
     "output_type": "error",
     "traceback": [
      "\u001b[1;31mCannot execute code, session has been disposed. Please try restarting the Kernel."
     ]
    },
    {
     "ename": "",
     "evalue": "",
     "output_type": "error",
     "traceback": [
      "\u001b[1;31mThe Kernel crashed while executing code in the the current cell or a previous cell. Please review the code in the cell(s) to identify a possible cause of the failure. Click <a href='https://aka.ms/vscodeJupyterKernelCrash'>here</a> for more info. View Jupyter <a href='command:jupyter.viewOutput'>log</a> for further details."
     ]
    }
   ],
   "source": [
    "node_raw_features, edge_raw_features, full_data, train_data, val_data, test_data, eval_metric_name, num_classes = \\\n",
    "        get_node_classification_tgb_data('tgbn-genre')"
   ]
  },
  {
   "cell_type": "code",
   "execution_count": 4,
   "metadata": {},
   "outputs": [
    {
     "name": "stdout",
     "output_type": "stream",
     "text": [
      "\u001b[93mDownload started, this might take a while . . . \u001b[0m\n",
      "Dataset title: tgbn-genre\n",
      "\u001b[92mDownload completed \u001b[0m\n",
      "Dataset directory is  /common/home/ac1771/.local/lib/python3.9/site-packages/tgb/data/tgbn_genre\n",
      "file not processed, generating processed file\n",
      "number of lines counted 17858395\n"
     ]
    },
    {
     "name": "stderr",
     "output_type": "stream",
     "text": [
      "17858396it [00:47, 372860.76it/s]\n",
      "2741936it [00:05, 517333.02it/s]\n"
     ]
    },
    {
     "name": "stdout",
     "output_type": "stream",
     "text": [
      "file processed and saved\n"
     ]
    },
    {
     "data": {
      "text/plain": [
       "numpy.ndarray"
      ]
     },
     "execution_count": 4,
     "metadata": {},
     "output_type": "execute_result"
    }
   ],
   "source": [
    "from tgb.nodeproppred.dataset import NodePropPredDataset\n",
    "\n",
    "name = \"tgbn-genre\"\n",
    "\n",
    "dataset = NodePropPredDataset(name=name, root=\"data\", preprocess=True)\n",
    "\n",
    "data = dataset.full_data\n",
    "\n",
    "type(data['sources']) #all source nodes of edges"
   ]
  },
  {
   "cell_type": "code",
   "execution_count": 12,
   "metadata": {},
   "outputs": [
    {
     "data": {
      "text/plain": [
       "'/common/home/ac1771/.local/lib/python3.9/site-packages/tgb/'"
      ]
     },
     "execution_count": 12,
     "metadata": {},
     "output_type": "execute_result"
    }
   ],
   "source": [
    "import tgb\n",
    "tgb.nodeproppred.dataset.PROJ_DIR"
   ]
  },
  {
   "cell_type": "code",
   "execution_count": null,
   "metadata": {},
   "outputs": [],
   "source": [
    "dataset"
   ]
  },
  {
   "cell_type": "code",
   "execution_count": 1,
   "metadata": {},
   "outputs": [
    {
     "ename": "NameError",
     "evalue": "name 'dataset' is not defined",
     "output_type": "error",
     "traceback": [
      "\u001b[0;31m---------------------------------------------------------------------------\u001b[0m",
      "\u001b[0;31mNameError\u001b[0m                                 Traceback (most recent call last)",
      "\u001b[1;32m/Users/tejshah/Desktop/final-project-bic/tgb-spikenet/tgbn_setup.ipynb Cell 7\u001b[0m line \u001b[0;36m1\n\u001b[0;32m----> <a href='vscode-notebook-cell:/Users/tejshah/Desktop/final-project-bic/tgb-spikenet/tgbn_setup.ipynb#W6sZmlsZQ%3D%3D?line=0'>1</a>\u001b[0m dataset\u001b[39m.\u001b[39mlabel_dict\n",
      "\u001b[0;31mNameError\u001b[0m: name 'dataset' is not defined"
     ]
    }
   ],
   "source": [
    "dataset.label_dict"
   ]
  },
  {
   "cell_type": "code",
   "execution_count": 9,
   "metadata": {},
   "outputs": [
    {
     "data": {
      "text/plain": [
       "17858395"
      ]
     },
     "execution_count": 9,
     "metadata": {},
     "output_type": "execute_result"
    }
   ],
   "source": [
    "len(data['timestamps'])"
   ]
  },
  {
   "cell_type": "code",
   "execution_count": 16,
   "metadata": {},
   "outputs": [
    {
     "data": {
      "text/plain": [
       "array([1., 1., 1., ..., 1., 1., 1.])"
      ]
     },
     "execution_count": 16,
     "metadata": {},
     "output_type": "execute_result"
    }
   ],
   "source": [
    "data['edge_label']"
   ]
  },
  {
   "cell_type": "code",
   "execution_count": 18,
   "metadata": {},
   "outputs": [
    {
     "data": {
      "text/plain": [
       "{1.0}"
      ]
     },
     "execution_count": 18,
     "metadata": {},
     "output_type": "execute_result"
    }
   ],
   "source": [
    "set(data['edge_label'])"
   ]
  },
  {
   "cell_type": "code",
   "execution_count": 8,
   "metadata": {},
   "outputs": [
    {
     "data": {
      "text/plain": [
       "{'sources': array([ 513.,  513.,  514., ..., 1210., 1210., 1210.]),\n",
       " 'destinations': array([ 0.,  0.,  1., ...,  8., 75.,  8.]),\n",
       " 'timestamps': array([1.10835720e+09, 1.10835720e+09, 1.10835726e+09, ...,\n",
       "        1.24546122e+09, 1.24546122e+09, 1.24546122e+09]),\n",
       " 'edge_idxs': array([1.0000000e+00, 2.0000000e+00, 3.0000000e+00, ..., 1.7858393e+07,\n",
       "        1.7858394e+07, 1.7858395e+07]),\n",
       " 'edge_feat': array([[0.375     ],\n",
       "        [0.375     ],\n",
       "        [0.45248869],\n",
       "        ...,\n",
       "        [0.45054945],\n",
       "        [0.54945055],\n",
       "        [0.45054945]]),\n",
       " 'edge_label': array([1., 1., 1., ..., 1., 1., 1.])}"
      ]
     },
     "execution_count": 8,
     "metadata": {},
     "output_type": "execute_result"
    }
   ],
   "source": [
    "data[]"
   ]
  }
 ],
 "metadata": {
  "kernelspec": {
   "display_name": "Python 3 (ipykernel)",
   "language": "python",
   "name": "python3"
  },
  "language_info": {
   "codemirror_mode": {
    "name": "ipython",
    "version": 3
   },
   "file_extension": ".py",
   "mimetype": "text/x-python",
   "name": "python",
   "nbconvert_exporter": "python",
   "pygments_lexer": "ipython3",
   "version": "3.9.19"
  }
 },
 "nbformat": 4,
 "nbformat_minor": 2
}
