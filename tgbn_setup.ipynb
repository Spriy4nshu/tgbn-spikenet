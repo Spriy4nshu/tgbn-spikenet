{
 "cells": [
  {
   "cell_type": "code",
   "execution_count": 2,
   "metadata": {},
   "outputs": [
    {
     "name": "stdout",
     "output_type": "stream",
     "text": [
      "Defaulting to user installation because normal site-packages is not writeable\n",
      "\u001b[33mWARNING: Keyring is skipped due to an exception: Failed to unlock the collection!\u001b[0m\n",
      "Collecting py-tgb\n",
      "  Downloading py_tgb-0.1.0-py3-none-any.whl (55 kB)\n",
      "\u001b[K     |████████████████████████████████| 55 kB 2.6 MB/s eta 0:00:011\n",
      "\u001b[31mERROR: Could not find a version that satisfies the requirement scikit-learn<2.0.0,>=1.2.2 (from py-tgb)\u001b[0m\n",
      "\u001b[31mERROR: No matching distribution found for scikit-learn<2.0.0,>=1.2.2\u001b[0m\n",
      "\u001b[?25h"
     ]
    }
   ],
   "source": [
    "!pip3 install py-tgb"
   ]
  },
  {
   "cell_type": "code",
   "execution_count": 1,
   "metadata": {},
   "outputs": [
    {
     "ename": "ModuleNotFoundError",
     "evalue": "No module named 'tgb'",
     "output_type": "error",
     "traceback": [
      "\u001b[0;31m---------------------------------------------------------------------------\u001b[0m",
      "\u001b[0;31mModuleNotFoundError\u001b[0m                       Traceback (most recent call last)",
      "\u001b[0;32m<ipython-input-1-46ba87ea4e63>\u001b[0m in \u001b[0;36m<module>\u001b[0;34m\u001b[0m\n\u001b[0;32m----> 1\u001b[0;31m \u001b[0;32mfrom\u001b[0m \u001b[0mDataLoader\u001b[0m \u001b[0;32mimport\u001b[0m \u001b[0mget_node_classification_tgb_data\u001b[0m\u001b[0;34m\u001b[0m\u001b[0;34m\u001b[0m\u001b[0m\n\u001b[0m",
      "\u001b[0;32m~/Desktop/bic-project/DataLoader.py\u001b[0m in \u001b[0;36m<module>\u001b[0;34m\u001b[0m\n\u001b[1;32m      4\u001b[0m \u001b[0;32mfrom\u001b[0m \u001b[0mtqdm\u001b[0m \u001b[0;32mimport\u001b[0m \u001b[0mtqdm\u001b[0m\u001b[0;34m\u001b[0m\u001b[0;34m\u001b[0m\u001b[0m\n\u001b[1;32m      5\u001b[0m \u001b[0;32mfrom\u001b[0m \u001b[0mtorch\u001b[0m\u001b[0;34m.\u001b[0m\u001b[0mutils\u001b[0m\u001b[0;34m.\u001b[0m\u001b[0mdata\u001b[0m \u001b[0;32mimport\u001b[0m \u001b[0mDataset\u001b[0m\u001b[0;34m,\u001b[0m \u001b[0mDataLoader\u001b[0m\u001b[0;34m\u001b[0m\u001b[0;34m\u001b[0m\u001b[0m\n\u001b[0;32m----> 6\u001b[0;31m \u001b[0;32mfrom\u001b[0m \u001b[0mtgb\u001b[0m\u001b[0;34m.\u001b[0m\u001b[0mlinkproppred\u001b[0m\u001b[0;34m.\u001b[0m\u001b[0mdataset\u001b[0m \u001b[0;32mimport\u001b[0m \u001b[0mLinkPropPredDataset\u001b[0m\u001b[0;34m\u001b[0m\u001b[0;34m\u001b[0m\u001b[0m\n\u001b[0m\u001b[1;32m      7\u001b[0m \u001b[0;32mfrom\u001b[0m \u001b[0mtgb\u001b[0m\u001b[0;34m.\u001b[0m\u001b[0mnodeproppred\u001b[0m\u001b[0;34m.\u001b[0m\u001b[0mdataset_pyg\u001b[0m \u001b[0;32mimport\u001b[0m \u001b[0mPyGNodePropPredDataset\u001b[0m\u001b[0;34m\u001b[0m\u001b[0;34m\u001b[0m\u001b[0m\n\u001b[1;32m      8\u001b[0m \u001b[0;34m\u001b[0m\u001b[0m\n",
      "\u001b[0;31mModuleNotFoundError\u001b[0m: No module named 'tgb'"
     ]
    }
   ],
   "source": [
    "from DataLoader import get_node_classification_tgb_data"
   ]
  },
  {
   "cell_type": "code",
   "execution_count": 2,
   "metadata": {},
   "outputs": [
    {
     "name": "stdout",
     "output_type": "stream",
     "text": [
      "\u001b[93mDownload started, this might take a while . . . \u001b[0m\n",
      "Dataset title: tgbn-genre\n",
      "\u001b[92mDownload completed \u001b[0m\n",
      "Dataset directory is  /common/home/ac1771/.conda/envs/dhypr-lib/lib/python3.11/site-packages/tgb/datasets/tgbn_genre\n",
      "file not processed, generating processed file\n",
      "number of lines counted 17858395\n"
     ]
    },
    {
     "name": "stderr",
     "output_type": "stream",
     "text": [
      "17858396it [00:40, 443328.05it/s]\n",
      "2741936it [00:04, 647684.67it/s]\n"
     ]
    },
    {
     "name": "stdout",
     "output_type": "stream",
     "text": [
      "file processed and saved\n",
      "Manually minus the edge indices by 1 on tgbn-genre\n"
     ]
    }
   ],
   "source": [
    "node_raw_features, edge_raw_features, full_data, train_data, val_data, test_data, eval_metric_name, num_classes = \\\n",
    "        get_node_classification_tgb_data('tgbn-genre')"
   ]
  },
  {
   "cell_type": "code",
   "execution_count": 4,
   "metadata": {},
   "outputs": [
    {
     "name": "stdout",
     "output_type": "stream",
     "text": [
      "\u001b[93mDownload started, this might take a while . . . \u001b[0m\n",
      "Dataset title: tgbn-genre\n",
      "\u001b[92mDownload completed \u001b[0m\n",
      "Dataset directory is  /common/home/ac1771/.local/lib/python3.9/site-packages/tgb/data/tgbn_genre\n",
      "file not processed, generating processed file\n",
      "number of lines counted 17858395\n"
     ]
    },
    {
     "name": "stderr",
     "output_type": "stream",
     "text": [
      "17858396it [00:47, 372860.76it/s]\n",
      "2741936it [00:05, 517333.02it/s]\n"
     ]
    },
    {
     "name": "stdout",
     "output_type": "stream",
     "text": [
      "file processed and saved\n"
     ]
    },
    {
     "data": {
      "text/plain": [
       "numpy.ndarray"
      ]
     },
     "execution_count": 4,
     "metadata": {},
     "output_type": "execute_result"
    }
   ],
   "source": [
    "from tgb.nodeproppred.dataset import NodePropPredDataset\n",
    "\n",
    "name = \"tgbn-genre\"\n",
    "\n",
    "dataset = NodePropPredDataset(name=name, root=\"data\", preprocess=True)\n",
    "\n",
    "data = dataset.full_data\n",
    "\n",
    "type(data['sources']) #all source nodes of edges"
   ]
  },
  {
   "cell_type": "code",
   "execution_count": 12,
   "metadata": {},
   "outputs": [
    {
     "data": {
      "text/plain": [
       "'/common/home/ac1771/.local/lib/python3.9/site-packages/tgb/'"
      ]
     },
     "execution_count": 12,
     "metadata": {},
     "output_type": "execute_result"
    }
   ],
   "source": [
    "import tgb\n",
    "tgb.nodeproppred.dataset.PROJ_DIR"
   ]
  },
  {
   "cell_type": "code",
   "execution_count": null,
   "metadata": {},
   "outputs": [],
   "source": [
    "dataset"
   ]
  },
  {
   "cell_type": "code",
   "execution_count": null,
   "metadata": {},
   "outputs": [
    {
     "ename": "AttributeError",
     "evalue": "'NodePropPredDataset' object has no attribute 'get_label_time'",
     "output_type": "error",
     "traceback": [
      "\u001b[0;31m---------------------------------------------------------------------------\u001b[0m",
      "\u001b[0;31mAttributeError\u001b[0m                            Traceback (most recent call last)",
      "Cell \u001b[0;32mIn[23], line 1\u001b[0m\n\u001b[0;32m----> 1\u001b[0m \u001b[38;5;28mlen\u001b[39m(\u001b[43mdataset\u001b[49m\u001b[38;5;241;43m.\u001b[39;49m\u001b[43mget_label_time\u001b[49m())\n",
      "\u001b[0;31mAttributeError\u001b[0m: 'NodePropPredDataset' object has no attribute 'get_label_time'"
     ]
    }
   ],
   "source": [
    "dataset.label_dict"
   ]
  },
  {
   "cell_type": "code",
   "execution_count": 9,
   "metadata": {},
   "outputs": [
    {
     "data": {
      "text/plain": [
       "17858395"
      ]
     },
     "execution_count": 9,
     "metadata": {},
     "output_type": "execute_result"
    }
   ],
   "source": [
    "len(data['timestamps'])"
   ]
  },
  {
   "cell_type": "code",
   "execution_count": 16,
   "metadata": {},
   "outputs": [
    {
     "data": {
      "text/plain": [
       "array([1., 1., 1., ..., 1., 1., 1.])"
      ]
     },
     "execution_count": 16,
     "metadata": {},
     "output_type": "execute_result"
    }
   ],
   "source": [
    "data['edge_label']"
   ]
  },
  {
   "cell_type": "code",
   "execution_count": 18,
   "metadata": {},
   "outputs": [
    {
     "data": {
      "text/plain": [
       "{1.0}"
      ]
     },
     "execution_count": 18,
     "metadata": {},
     "output_type": "execute_result"
    }
   ],
   "source": [
    "set(data['edge_label'])"
   ]
  },
  {
   "cell_type": "code",
   "execution_count": 8,
   "metadata": {},
   "outputs": [
    {
     "data": {
      "text/plain": [
       "{'sources': array([ 513.,  513.,  514., ..., 1210., 1210., 1210.]),\n",
       " 'destinations': array([ 0.,  0.,  1., ...,  8., 75.,  8.]),\n",
       " 'timestamps': array([1.10835720e+09, 1.10835720e+09, 1.10835726e+09, ...,\n",
       "        1.24546122e+09, 1.24546122e+09, 1.24546122e+09]),\n",
       " 'edge_idxs': array([1.0000000e+00, 2.0000000e+00, 3.0000000e+00, ..., 1.7858393e+07,\n",
       "        1.7858394e+07, 1.7858395e+07]),\n",
       " 'edge_feat': array([[0.375     ],\n",
       "        [0.375     ],\n",
       "        [0.45248869],\n",
       "        ...,\n",
       "        [0.45054945],\n",
       "        [0.54945055],\n",
       "        [0.45054945]]),\n",
       " 'edge_label': array([1., 1., 1., ..., 1., 1., 1.])}"
      ]
     },
     "execution_count": 8,
     "metadata": {},
     "output_type": "execute_result"
    }
   ],
   "source": [
    "data[]"
   ]
  }
 ],
 "metadata": {
  "kernelspec": {
   "display_name": "Python 3 (ipykernel)",
   "language": "python",
   "name": "python3"
  },
  "language_info": {
   "codemirror_mode": {
    "name": "ipython",
    "version": 3
   },
   "file_extension": ".py",
   "mimetype": "text/x-python",
   "name": "python",
   "nbconvert_exporter": "python",
   "pygments_lexer": "ipython3",
   "version": "3.6.9"
  }
 },
 "nbformat": 4,
 "nbformat_minor": 2
}
